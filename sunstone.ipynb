{
  "cells": [
    {
      "cell_type": "markdown",
      "metadata": {
        "id": "view-in-github",
        "colab_type": "text"
      },
      "source": [
        "<a href=\"https://colab.research.google.com/github/kanan110205/iti-tiwari/blob/main/sunstone.ipynb\" target=\"_parent\"><img src=\"https://colab.research.google.com/assets/colab-badge.svg\" alt=\"Open In Colab\"/></a>"
      ]
    },
    {
      "cell_type": "code",
      "execution_count": null,
      "metadata": {
        "id": "8fqPdMu3CFnL"
      },
      "outputs": [],
      "source": [
        "x=2"
      ]
    },
    {
      "cell_type": "code",
      "execution_count": null,
      "metadata": {
        "colab": {
          "base_uri": "https://localhost:8080/"
        },
        "id": "t4_gV8qkFYox",
        "outputId": "50e9ca99-8585-4bad-f610-b09000e4d285"
      },
      "outputs": [
        {
          "data": {
            "text/plain": [
              "2"
            ]
          },
          "execution_count": 2,
          "metadata": {},
          "output_type": "execute_result"
        }
      ],
      "source": [
        "x"
      ]
    },
    {
      "cell_type": "code",
      "execution_count": null,
      "metadata": {
        "colab": {
          "base_uri": "https://localhost:8080/"
        },
        "id": "GvhfiD8UFfLA",
        "outputId": "abe39cb8-b340-4767-9eb7-82292a6961f6"
      },
      "outputs": [
        {
          "data": {
            "text/plain": [
              "int"
            ]
          },
          "execution_count": 3,
          "metadata": {},
          "output_type": "execute_result"
        }
      ],
      "source": [
        "type(x)"
      ]
    },
    {
      "cell_type": "code",
      "execution_count": null,
      "metadata": {
        "id": "6ZLBChojFqDV"
      },
      "outputs": [],
      "source": [
        "y=3.5"
      ]
    },
    {
      "cell_type": "code",
      "execution_count": null,
      "metadata": {
        "colab": {
          "base_uri": "https://localhost:8080/"
        },
        "id": "2V9Z2cbMFs1p",
        "outputId": "b5028263-bb80-47db-edcf-456577569b02"
      },
      "outputs": [
        {
          "data": {
            "text/plain": [
              "3.5"
            ]
          },
          "execution_count": 5,
          "metadata": {},
          "output_type": "execute_result"
        }
      ],
      "source": [
        "y"
      ]
    },
    {
      "cell_type": "code",
      "execution_count": null,
      "metadata": {
        "colab": {
          "base_uri": "https://localhost:8080/"
        },
        "id": "XUwr0DPqFvKl",
        "outputId": "72acd28f-fb9c-426a-8ab3-84c0147dc4d4"
      },
      "outputs": [
        {
          "data": {
            "text/plain": [
              "float"
            ]
          },
          "execution_count": 7,
          "metadata": {},
          "output_type": "execute_result"
        }
      ],
      "source": [
        "type(y)\n",
        "\n"
      ]
    },
    {
      "cell_type": "code",
      "execution_count": null,
      "metadata": {
        "id": "0o6-gCLrF_cj"
      },
      "outputs": [],
      "source": [
        "a=\"python\"\n",
        "b= 2"
      ]
    },
    {
      "cell_type": "code",
      "execution_count": null,
      "metadata": {
        "colab": {
          "base_uri": "https://localhost:8080/"
        },
        "id": "7R0YRmFUGJwM",
        "outputId": "81e51a6a-f1a2-40fe-b922-af27f16a735c"
      },
      "outputs": [
        {
          "data": {
            "text/plain": [
              "str"
            ]
          },
          "execution_count": 18,
          "metadata": {},
          "output_type": "execute_result"
        }
      ],
      "source": [
        "type(a)\n"
      ]
    },
    {
      "cell_type": "code",
      "execution_count": null,
      "metadata": {
        "colab": {
          "base_uri": "https://localhost:8080/"
        },
        "id": "AuEh1wwkGsBP",
        "outputId": "6357db5e-ada3-400a-8726-6206dbb9d473"
      },
      "outputs": [
        {
          "data": {
            "text/plain": [
              "int"
            ]
          },
          "execution_count": 20,
          "metadata": {},
          "output_type": "execute_result"
        }
      ],
      "source": [
        "type(b)"
      ]
    },
    {
      "cell_type": "code",
      "execution_count": null,
      "metadata": {
        "colab": {
          "base_uri": "https://localhost:8080/"
        },
        "id": "qqYR6OyxGvwJ",
        "outputId": "d549b74f-b516-4ada-c47a-1f94814b70da"
      },
      "outputs": [
        {
          "data": {
            "text/plain": [
              "int"
            ]
          },
          "execution_count": 22,
          "metadata": {},
          "output_type": "execute_result"
        }
      ],
      "source": [
        "a=3\n",
        "type(a)"
      ]
    },
    {
      "cell_type": "code",
      "execution_count": null,
      "metadata": {
        "colab": {
          "base_uri": "https://localhost:8080/"
        },
        "id": "1H1tbHVQGzKw",
        "outputId": "0806146a-aef8-4b18-b2fc-100fed385b24"
      },
      "outputs": [
        {
          "data": {
            "text/plain": [
              "float"
            ]
          },
          "execution_count": 23,
          "metadata": {},
          "output_type": "execute_result"
        }
      ],
      "source": [
        "b=4.9998\n",
        "type(b)\n"
      ]
    },
    {
      "cell_type": "code",
      "execution_count": null,
      "metadata": {
        "colab": {
          "base_uri": "https://localhost:8080/"
        },
        "id": "NO8Xdg78G4kb",
        "outputId": "57e4c622-5813-4236-f77c-b86891768b46"
      },
      "outputs": [
        {
          "data": {
            "text/plain": [
              "str"
            ]
          },
          "execution_count": 25,
          "metadata": {},
          "output_type": "execute_result"
        }
      ],
      "source": [
        "c=\"iti\"\n",
        "type(c)\n"
      ]
    },
    {
      "cell_type": "code",
      "execution_count": null,
      "metadata": {
        "colab": {
          "base_uri": "https://localhost:8080/"
        },
        "id": "_iZH35E1HAxJ",
        "outputId": "0e6bf7aa-b4af-40af-e85d-86da2b8bed17"
      },
      "outputs": [
        {
          "name": "stdout",
          "output_type": "stream",
          "text": [
            "enter the no11\n"
          ]
        }
      ],
      "source": [
        "a=int(input (\"enter the no\"))"
      ]
    },
    {
      "cell_type": "code",
      "execution_count": null,
      "metadata": {
        "colab": {
          "base_uri": "https://localhost:8080/"
        },
        "id": "ckMEzq0CKeBr",
        "outputId": "b7ac5e7a-ba1e-46d7-b14f-b85aab634145"
      },
      "outputs": [
        {
          "name": "stdout",
          "output_type": "stream",
          "text": [
            "enter the no.-2\n",
            "negative no\n"
          ]
        }
      ],
      "source": [
        "a= int(input(\"enter the no.\"))\n",
        "if a<0:\n",
        "  print(\"negative no\")\n",
        "  "
      ]
    },
    {
      "cell_type": "code",
      "execution_count": null,
      "metadata": {
        "colab": {
          "base_uri": "https://localhost:8080/"
        },
        "id": "1511GcJ6McRd",
        "outputId": "b0b705c7-b711-46cb-931f-b77002661420"
      },
      "outputs": [
        {
          "name": "stdout",
          "output_type": "stream",
          "text": [
            "enter no43\n",
            "greater\n"
          ]
        }
      ],
      "source": [
        "a=40\n",
        "a=int(input(\"enter no\"))\n",
        "if a<40:\n",
        "  print(\" less \")\n",
        "else:\n",
        "    print(\"greater\")"
      ]
    },
    {
      "cell_type": "code",
      "execution_count": null,
      "metadata": {
        "colab": {
          "base_uri": "https://localhost:8080/"
        },
        "id": "XSCXdFgDNymo",
        "outputId": "32a93e74-4e58-4c90-dfd9-7c58d7966b9d"
      },
      "outputs": [
        {
          "name": "stdout",
          "output_type": "stream",
          "text": [
            "enter the first no4\n",
            "enter the second no6\n",
            "enter the last no8\n",
            "c is greater\n"
          ]
        }
      ],
      "source": [
        "\n",
        "a=int(input(\"enter the first no\"))\n",
        "b=int(input(\"enter the second no\"))\n",
        "c=int(input(\"enter the last no\"))\n",
        "if (a>b)and(a>c):\n",
        " print('a is greater')\n",
        "elif (b>a)and(b>c):\n",
        "  print(\"b is greater\")\n",
        "\n",
        "else:\n",
        " print(\"c is greater\")\n"
      ]
    },
    {
      "cell_type": "code",
      "execution_count": null,
      "metadata": {
        "colab": {
          "base_uri": "https://localhost:8080/"
        },
        "id": "89P2yHJBJBI5",
        "outputId": "770c5472-e343-4501-b29e-255ece838a8d"
      },
      "outputs": [
        {
          "name": "stdout",
          "output_type": "stream",
          "text": [
            "[1 2 3 4]\n",
            "1.22.4\n"
          ]
        },
        {
          "data": {
            "text/plain": [
              "0.93713973067304"
            ]
          },
          "execution_count": 24,
          "metadata": {},
          "output_type": "execute_result"
        }
      ],
      "source": [
        "import numpy as np\n",
        "array =np.array([1,2,3,4])\n",
        "print(array)\n",
        "print(np. __version__)\n",
        "from numpy.random import random\n",
        "random()"
      ]
    },
    {
      "cell_type": "code",
      "execution_count": null,
      "metadata": {
        "colab": {
          "base_uri": "https://localhost:8080/"
        },
        "id": "I9I81WEWK2EN",
        "outputId": "8642e7ac-0a74-4d7a-b3ef-7fa00f42ff45"
      },
      "outputs": [
        {
          "name": "stdout",
          "output_type": "stream",
          "text": [
            "0.9717484726017194\n",
            "greater than 1\n"
          ]
        }
      ],
      "source": [
        "x=random()\n",
        "if x > 0.8 :\n",
        "  answer=\"greater than 1\"\n",
        "print(x)\n",
        "\n",
        "print(answer)"
      ]
    },
    {
      "cell_type": "code",
      "execution_count": null,
      "metadata": {
        "colab": {
          "base_uri": "https://localhost:8080/"
        },
        "id": "mxnFDsV2NKvN",
        "outputId": "74e6c79f-c795-41bf-9300-e6358c9fd07c"
      },
      "outputs": [
        {
          "name": "stdout",
          "output_type": "stream",
          "text": [
            "0.3296736485596041\n",
            "less than 0.5\n"
          ]
        }
      ],
      "source": [
        "x=random()\n",
        "if x > 0.5 :\n",
        "  answer=\"greater than 0.5\"\n",
        "else:\n",
        "  answer=\"less than 0.5\"\n",
        "print(x)\n",
        "\n",
        "print(answer)"
      ]
    },
    {
      "cell_type": "code",
      "execution_count": null,
      "metadata": {
        "colab": {
          "base_uri": "https://localhost:8080/"
        },
        "id": "Ifqq5POgN4eR",
        "outputId": "28156bf6-6431-4d73-b379-6907ba1d623e"
      },
      "outputs": [
        {
          "name": "stdout",
          "output_type": "stream",
          "text": [
            "0.030515402280964277\n",
            "less than 0.5\n"
          ]
        }
      ],
      "source": [
        "x=random()\n",
        "if x < 0.5 :\n",
        "  answer=\"less than 0.5\"\n",
        "  \n",
        "else:\n",
        "  if x >=0.5<=0.8:\n",
        "    answer= \"hii\"\n",
        "  else:\n",
        "   answer=\"greater than 0.5\"\n",
        "print(x)\n",
        "\n",
        "print(answer)"
      ]
    },
    {
      "cell_type": "code",
      "execution_count": null,
      "metadata": {
        "colab": {
          "base_uri": "https://localhost:8080/"
        },
        "id": "qCmkwB5tPEe1",
        "outputId": "0dff68de-0b38-4cdb-a543-c4a22dc9170b"
      },
      "outputs": [
        {
          "name": "stdout",
          "output_type": "stream",
          "text": [
            "1\n",
            "2\n",
            "3\n"
          ]
        }
      ],
      "source": [
        "i = 1\n",
        "while i <= 3:\n",
        "  print(i)\n",
        "  i += 1\n"
      ]
    },
    {
      "cell_type": "code",
      "execution_count": null,
      "metadata": {
        "colab": {
          "base_uri": "https://localhost:8080/"
        },
        "id": "zvAxIg_fP9_j",
        "outputId": "a683dc76-34f7-4253-aeff-1ac44322b38f"
      },
      "outputs": [
        {
          "name": "stdout",
          "output_type": "stream",
          "text": [
            "1\n",
            "2\n",
            "3\n",
            "4\n",
            "5\n",
            "6\n",
            "7\n",
            "8\n",
            "9\n",
            "10\n"
          ]
        }
      ],
      "source": [
        "i = 1\n",
        "while i <= 10:\n",
        "  print(i)\n",
        "  i += 1\n"
      ]
    },
    {
      "cell_type": "code",
      "execution_count": null,
      "metadata": {
        "colab": {
          "base_uri": "https://localhost:8080/"
        },
        "id": "yuD_LILDRfcO",
        "outputId": "85dedf1a-125e-40fe-f357-88daddbbb524"
      },
      "outputs": [
        {
          "name": "stdout",
          "output_type": "stream",
          "text": [
            "10\n",
            "9\n",
            "8\n",
            "7\n",
            "6\n",
            "5\n",
            "4\n",
            "3\n",
            "2\n",
            "1\n"
          ]
        }
      ],
      "source": [
        "i = 10\n",
        "while i >= 1:\n",
        "  print(i)\n",
        "  i -= 1\n"
      ]
    },
    {
      "cell_type": "code",
      "execution_count": null,
      "metadata": {
        "colab": {
          "base_uri": "https://localhost:8080/"
        },
        "id": "z1xLhbGASuh0",
        "outputId": "04411ed0-5919-43d4-e290-11946f57eb7f"
      },
      "outputs": [
        {
          "name": "stdout",
          "output_type": "stream",
          "text": [
            "120\n"
          ]
        }
      ],
      "source": [
        "n = 5\n",
        "fact = 1\n",
        "\n",
        "for i in range(1, n+1):\n",
        "\tfact = fact * i\n",
        "\n",
        "\n",
        "print(fact)\n"
      ]
    },
    {
      "cell_type": "code",
      "execution_count": null,
      "metadata": {
        "colab": {
          "base_uri": "https://localhost:8080/"
        },
        "id": "kxEnKrtoYs6f",
        "outputId": "75582031-1e8b-4f71-e1e4-8a9c0a23f671"
      },
      "outputs": [
        {
          "name": "stdout",
          "output_type": "stream",
          "text": [
            "enter the no123\n",
            "3\n",
            "32\n",
            "321\n"
          ]
        }
      ],
      "source": [
        "n=int(input(\"enter the no\"))\n",
        "reverse=0\n",
        "while n!=0:\n",
        "  rem=n%10\n",
        "  reverse=reverse*10 + rem\n",
        "  n//=10\n",
        "  print(reverse)\n"
      ]
    },
    {
      "cell_type": "code",
      "execution_count": null,
      "metadata": {
        "colab": {
          "base_uri": "https://localhost:8080/"
        },
        "id": "BDEUPZFMal8i",
        "outputId": "ecf2addc-fa06-498c-d728-21c886e6e9b0"
      },
      "outputs": [
        {
          "name": "stdout",
          "output_type": "stream",
          "text": [
            "enter the no123\n",
            "3\n",
            "32\n",
            "321\n"
          ]
        }
      ],
      "source": [
        "n=int(input(\"enter the no\"))\n",
        "reverse=0\n",
        "while n!=0:\n",
        "  rem=n%10\n",
        "  reverse=reverse*10 + rem\n",
        "  n//=10\n",
        "  print(reverse)\n"
      ]
    },
    {
      "cell_type": "code",
      "execution_count": null,
      "metadata": {
        "colab": {
          "base_uri": "https://localhost:8080/"
        },
        "id": "ehqKC3zrB2JJ",
        "outputId": "1e5a47f5-2f9d-4fbf-96d2-43912f2ed8d7"
      },
      "outputs": [
        {
          "name": "stdout",
          "output_type": "stream",
          "text": [
            "hello\n",
            "hello\n",
            "hello\n",
            "hello\n",
            "hello\n",
            "hello\n",
            "hello\n",
            "hello\n",
            "hello\n",
            "hello\n",
            "hello\n",
            "hello\n",
            "hello\n",
            "hello\n",
            "hello\n"
          ]
        }
      ],
      "source": [
        "for i in range(15):\n",
        "  print(\"hello\")"
      ]
    },
    {
      "cell_type": "code",
      "execution_count": null,
      "metadata": {
        "colab": {
          "base_uri": "https://localhost:8080/"
        },
        "id": "tjG4oENwCvSI",
        "outputId": "a3ef3a49-bcdc-4b5f-89cb-3468ff4e2593"
      },
      "outputs": [
        {
          "data": {
            "text/plain": [
              "range(0, 5)"
            ]
          },
          "execution_count": 16,
          "metadata": {},
          "output_type": "execute_result"
        }
      ],
      "source": [
        "range(5)\n"
      ]
    },
    {
      "cell_type": "code",
      "execution_count": null,
      "metadata": {
        "colab": {
          "base_uri": "https://localhost:8080/"
        },
        "id": "qNVv4knoDDq1",
        "outputId": "23c96aff-c0cc-485b-a795-f84e517b9268"
      },
      "outputs": [
        {
          "data": {
            "text/plain": [
              "[0, 1, 2, 3, 4]"
            ]
          },
          "execution_count": 19,
          "metadata": {},
          "output_type": "execute_result"
        }
      ],
      "source": [
        "list(range(5))\n",
        "# list is a mixed data type "
      ]
    },
    {
      "cell_type": "code",
      "execution_count": null,
      "metadata": {
        "colab": {
          "base_uri": "https://localhost:8080/"
        },
        "id": "Dw7s5WF7DXRu",
        "outputId": "9a63262e-b76c-441e-a80c-aab9a8c06529"
      },
      "outputs": [
        {
          "data": {
            "text/plain": [
              "[1, 2, 3]"
            ]
          },
          "execution_count": 22,
          "metadata": {},
          "output_type": "execute_result"
        }
      ],
      "source": [
        "list (range(1,4))"
      ]
    },
    {
      "cell_type": "code",
      "execution_count": null,
      "metadata": {
        "id": "wa8mlaflD6BY"
      },
      "outputs": [],
      "source": [
        "# list is an type of array more specifically it is a tyoe of vector or data structure\n",
        "# list can also be called as the type of the order sequence of the element or ordered set of element,\n",
        "# order starts from zero and ends at 9---(in other programming language like R list is start from 1)\n",
        "# list is the strange element for data type or used to store mixed data type and every thing is numerated"
      ]
    },
    {
      "cell_type": "code",
      "execution_count": null,
      "metadata": {
        "colab": {
          "base_uri": "https://localhost:8080/"
        },
        "id": "DLDvymITFFDh",
        "outputId": "11c3a7bc-4bfe-496f-858d-1c4ccb1d38d5"
      },
      "outputs": [
        {
          "name": "stdout",
          "output_type": "stream",
          "text": [
            "[4, 6, 11, 5, 8]\n"
          ]
        },
        {
          "data": {
            "text/plain": [
              "list"
            ]
          },
          "execution_count": 30,
          "metadata": {},
          "output_type": "execute_result"
        }
      ],
      "source": [
        "x=[4,6,11,5,8]\n",
        "print(x)\n",
        "type(x)\n"
      ]
    },
    {
      "cell_type": "code",
      "execution_count": null,
      "metadata": {
        "colab": {
          "base_uri": "https://localhost:8080/"
        },
        "id": "EoHWhPnVFuRE",
        "outputId": "aebe200b-f055-436e-ab75-cd5af3e52a17"
      },
      "outputs": [
        {
          "name": "stdout",
          "output_type": "stream",
          "text": [
            "['iti', 1, True, 4.32, [4, 6, 11, 5, 8]]\n"
          ]
        }
      ],
      "source": [
        "i=[\"iti\",1,True,4.32,x]\n",
        "print(i)"
      ]
    },
    {
      "cell_type": "code",
      "execution_count": null,
      "metadata": {
        "colab": {
          "base_uri": "https://localhost:8080/"
        },
        "id": "Mp-RlGzNGM3k",
        "outputId": "c121fddf-0af5-40fb-b641-4406b30aa1d2"
      },
      "outputs": [
        {
          "name": "stdout",
          "output_type": "stream",
          "text": [
            "['iti', 1, True, 4.32]\n"
          ]
        }
      ],
      "source": [
        "i=[\"iti\",1,True,4.32,]\n",
        "print(i)"
      ]
    },
    {
      "cell_type": "code",
      "execution_count": null,
      "metadata": {
        "colab": {
          "base_uri": "https://localhost:8080/"
        },
        "id": "Ubm7YwJDGPNh",
        "outputId": "70ba7365-afc7-45b1-8100-3eeb116ff649"
      },
      "outputs": [
        {
          "name": "stdout",
          "output_type": "stream",
          "text": [
            "[[1, 2, 3, 4, 5], [2.4, 1.2], ['iti', 'butter']]\n"
          ]
        }
      ],
      "source": [
        "a=[1,2,3,4,5]\n",
        "b=[2.4,1.2]\n",
        "c=['iti','butter']\n",
        "d=[a,b,c]\n",
        "\n",
        "print(d)"
      ]
    },
    {
      "cell_type": "code",
      "execution_count": null,
      "metadata": {
        "colab": {
          "base_uri": "https://localhost:8080/"
        },
        "id": "0h4D5vZ4IC-N",
        "outputId": "d8707441-5ae0-402f-c770-71e692e35713"
      },
      "outputs": [
        {
          "name": "stdout",
          "output_type": "stream",
          "text": [
            "[1, 3, 5, 7, 9]\n",
            "[2, 4, 6, 8, 10]\n"
          ]
        }
      ],
      "source": [
        "y=list(range(1,11,2))\n",
        "print(y)\n",
        "x=list(range(2,11,2))\n",
        "print(x)"
      ]
    },
    {
      "cell_type": "code",
      "execution_count": null,
      "metadata": {
        "colab": {
          "base_uri": "https://localhost:8080/",
          "height": 35
        },
        "id": "9YglmLawJGSl",
        "outputId": "8a06aa84-389b-41b7-a174-7451103b38f7"
      },
      "outputs": [
        {
          "data": {
            "application/vnd.google.colaboratory.intrinsic+json": {
              "type": "string"
            },
            "text/plain": [
              "'c'"
            ]
          },
          "execution_count": 62,
          "metadata": {},
          "output_type": "execute_result"
        }
      ],
      "source": [
        "p=[\"a\",'c']\n",
        "p[1]\n",
        "\n"
      ]
    },
    {
      "cell_type": "code",
      "execution_count": null,
      "metadata": {
        "colab": {
          "base_uri": "https://localhost:8080/"
        },
        "id": "795VmHLELRW0",
        "outputId": "49c750f8-563e-4b0c-d64c-6ec2323a3188"
      },
      "outputs": [
        {
          "data": {
            "text/plain": [
              "2"
            ]
          },
          "execution_count": 65,
          "metadata": {},
          "output_type": "execute_result"
        }
      ],
      "source": [
        "len(p)"
      ]
    },
    {
      "cell_type": "code",
      "execution_count": null,
      "metadata": {
        "colab": {
          "base_uri": "https://localhost:8080/",
          "height": 35
        },
        "id": "p6LAm-wxMq_m",
        "outputId": "5a1a85c4-55b5-4cd6-f0e2-1d776b2e4be3"
      },
      "outputs": [
        {
          "data": {
            "application/vnd.google.colaboratory.intrinsic+json": {
              "type": "string"
            },
            "text/plain": [
              "'a'"
            ]
          },
          "execution_count": 70,
          "metadata": {},
          "output_type": "execute_result"
        }
      ],
      "source": [
        "p[-2]\n"
      ]
    },
    {
      "cell_type": "code",
      "execution_count": null,
      "metadata": {
        "colab": {
          "base_uri": "https://localhost:8080/"
        },
        "id": "66PzF2_bNIas",
        "outputId": "6cc23d40-7999-49c5-9d32-3827a430a591"
      },
      "outputs": [
        {
          "data": {
            "text/plain": [
              "[5, 'c']"
            ]
          },
          "execution_count": 72,
          "metadata": {},
          "output_type": "execute_result"
        }
      ],
      "source": [
        "p[-2]=5\n",
        "p"
      ]
    },
    {
      "cell_type": "code",
      "execution_count": null,
      "metadata": {
        "id": "uL5nh7D9OKB1"
      },
      "outputs": [],
      "source": []
    },
    {
      "cell_type": "code",
      "execution_count": null,
      "metadata": {
        "colab": {
          "base_uri": "https://localhost:8080/",
          "height": 143
        },
        "id": "_TgArMeMTAMk",
        "outputId": "b1423413-5554-4068-99d4-0f9ff229f703"
      },
      "outputs": [
        {
          "data": {
            "text/html": [
              "\n",
              "  <div id=\"df-7f39ecf8-b654-47de-bdda-2e64d897dcb9\">\n",
              "    <div class=\"colab-df-container\">\n",
              "      <div>\n",
              "<style scoped>\n",
              "    .dataframe tbody tr th:only-of-type {\n",
              "        vertical-align: middle;\n",
              "    }\n",
              "\n",
              "    .dataframe tbody tr th {\n",
              "        vertical-align: top;\n",
              "    }\n",
              "\n",
              "    .dataframe thead th {\n",
              "        text-align: right;\n",
              "    }\n",
              "</style>\n",
              "<table border=\"1\" class=\"dataframe\">\n",
              "  <thead>\n",
              "    <tr style=\"text-align: right;\">\n",
              "      <th></th>\n",
              "      <th>name</th>\n",
              "      <th>name.1</th>\n",
              "      <th>name.2</th>\n",
              "    </tr>\n",
              "  </thead>\n",
              "  <tbody>\n",
              "    <tr>\n",
              "      <th>0</th>\n",
              "      <td>iti</td>\n",
              "      <td>iti</td>\n",
              "      <td>iti</td>\n",
              "    </tr>\n",
              "    <tr>\n",
              "      <th>1</th>\n",
              "      <td>kanan</td>\n",
              "      <td>kanan</td>\n",
              "      <td>kanan</td>\n",
              "    </tr>\n",
              "    <tr>\n",
              "      <th>2</th>\n",
              "      <td>butter</td>\n",
              "      <td>butter</td>\n",
              "      <td>butter</td>\n",
              "    </tr>\n",
              "  </tbody>\n",
              "</table>\n",
              "</div>\n",
              "      <button class=\"colab-df-convert\" onclick=\"convertToInteractive('df-7f39ecf8-b654-47de-bdda-2e64d897dcb9')\"\n",
              "              title=\"Convert this dataframe to an interactive table.\"\n",
              "              style=\"display:none;\">\n",
              "        \n",
              "  <svg xmlns=\"http://www.w3.org/2000/svg\" height=\"24px\"viewBox=\"0 0 24 24\"\n",
              "       width=\"24px\">\n",
              "    <path d=\"M0 0h24v24H0V0z\" fill=\"none\"/>\n",
              "    <path d=\"M18.56 5.44l.94 2.06.94-2.06 2.06-.94-2.06-.94-.94-2.06-.94 2.06-2.06.94zm-11 1L8.5 8.5l.94-2.06 2.06-.94-2.06-.94L8.5 2.5l-.94 2.06-2.06.94zm10 10l.94 2.06.94-2.06 2.06-.94-2.06-.94-.94-2.06-.94 2.06-2.06.94z\"/><path d=\"M17.41 7.96l-1.37-1.37c-.4-.4-.92-.59-1.43-.59-.52 0-1.04.2-1.43.59L10.3 9.45l-7.72 7.72c-.78.78-.78 2.05 0 2.83L4 21.41c.39.39.9.59 1.41.59.51 0 1.02-.2 1.41-.59l7.78-7.78 2.81-2.81c.8-.78.8-2.07 0-2.86zM5.41 20L4 18.59l7.72-7.72 1.47 1.35L5.41 20z\"/>\n",
              "  </svg>\n",
              "      </button>\n",
              "      \n",
              "  <style>\n",
              "    .colab-df-container {\n",
              "      display:flex;\n",
              "      flex-wrap:wrap;\n",
              "      gap: 12px;\n",
              "    }\n",
              "\n",
              "    .colab-df-convert {\n",
              "      background-color: #E8F0FE;\n",
              "      border: none;\n",
              "      border-radius: 50%;\n",
              "      cursor: pointer;\n",
              "      display: none;\n",
              "      fill: #1967D2;\n",
              "      height: 32px;\n",
              "      padding: 0 0 0 0;\n",
              "      width: 32px;\n",
              "    }\n",
              "\n",
              "    .colab-df-convert:hover {\n",
              "      background-color: #E2EBFA;\n",
              "      box-shadow: 0px 1px 2px rgba(60, 64, 67, 0.3), 0px 1px 3px 1px rgba(60, 64, 67, 0.15);\n",
              "      fill: #174EA6;\n",
              "    }\n",
              "\n",
              "    [theme=dark] .colab-df-convert {\n",
              "      background-color: #3B4455;\n",
              "      fill: #D2E3FC;\n",
              "    }\n",
              "\n",
              "    [theme=dark] .colab-df-convert:hover {\n",
              "      background-color: #434B5C;\n",
              "      box-shadow: 0px 1px 3px 1px rgba(0, 0, 0, 0.15);\n",
              "      filter: drop-shadow(0px 1px 2px rgba(0, 0, 0, 0.3));\n",
              "      fill: #FFFFFF;\n",
              "    }\n",
              "  </style>\n",
              "\n",
              "      <script>\n",
              "        const buttonEl =\n",
              "          document.querySelector('#df-7f39ecf8-b654-47de-bdda-2e64d897dcb9 button.colab-df-convert');\n",
              "        buttonEl.style.display =\n",
              "          google.colab.kernel.accessAllowed ? 'block' : 'none';\n",
              "\n",
              "        async function convertToInteractive(key) {\n",
              "          const element = document.querySelector('#df-7f39ecf8-b654-47de-bdda-2e64d897dcb9');\n",
              "          const dataTable =\n",
              "            await google.colab.kernel.invokeFunction('convertToInteractive',\n",
              "                                                     [key], {});\n",
              "          if (!dataTable) return;\n",
              "\n",
              "          const docLinkHtml = 'Like what you see? Visit the ' +\n",
              "            '<a target=\"_blank\" href=https://colab.research.google.com/notebooks/data_table.ipynb>data table notebook</a>'\n",
              "            + ' to learn more about interactive tables.';\n",
              "          element.innerHTML = '';\n",
              "          dataTable['output_type'] = 'display_data';\n",
              "          await google.colab.output.renderOutput(dataTable, element);\n",
              "          const docLink = document.createElement('div');\n",
              "          docLink.innerHTML = docLinkHtml;\n",
              "          element.appendChild(docLink);\n",
              "        }\n",
              "      </script>\n",
              "    </div>\n",
              "  </div>\n",
              "  "
            ],
            "text/plain": [
              "     name  name.1  name.2\n",
              "0     iti     iti     iti\n",
              "1   kanan   kanan   kanan\n",
              "2  butter  butter  butter"
            ]
          },
          "execution_count": 9,
          "metadata": {},
          "output_type": "execute_result"
        }
      ],
      "source": [
        "import pandas as pd\n",
        "path= \"/spreadsheet - Sheet1.csv\"\n",
        "df=pd.read_csv(path)\n",
        "df.head(3)"
      ]
    },
    {
      "cell_type": "code",
      "execution_count": null,
      "metadata": {
        "colab": {
          "base_uri": "https://localhost:8080/"
        },
        "id": "mS7PZWrsVunc",
        "outputId": "46fc2803-d0cb-425f-dbb3-82c535f86ca3"
      },
      "outputs": [
        {
          "data": {
            "text/plain": [
              "['a', 'b', 'c', 'd', 'e', 'f', 'g', 'h', 'i', 'j', 'k']"
            ]
          },
          "execution_count": 1,
          "metadata": {},
          "output_type": "execute_result"
        }
      ],
      "source": [
        "#slicing\n",
        "hii=['a','b','c','d','e','f','g','h','i','j','k']\n",
        "hii\n",
        "\n"
      ]
    },
    {
      "cell_type": "code",
      "execution_count": null,
      "metadata": {
        "colab": {
          "base_uri": "https://localhost:8080/"
        },
        "id": "pOin5Sz8WdmF",
        "outputId": "195a62e6-6d7d-4c32-e452-ffc6c93133f3"
      },
      "outputs": [
        {
          "name": "stdout",
          "output_type": "stream",
          "text": [
            "['a', 'b', 'c', 'd', 'e', 'f', 'g', 'h', 'i', 'j', 'k']\n",
            "['c', 'd', 'e', 'f', 'g', 'h', 'i', 'j', 'k']\n",
            "['c']\n",
            "['f']\n",
            "[]\n",
            "['h']\n",
            "['a', 'd', 'g', 'j']\n",
            "['k', 'h', 'e', 'b']\n",
            "['g', 'f', 'e', 'd']\n"
          ]
        }
      ],
      "source": [
        "print(hii[:])\n",
        "print(hii[2:])\n",
        "print(hii[2:3])\n",
        "print(hii[5:6])\n",
        "print(hii[-2:3])\n",
        "print(hii[-4:-3])\n",
        "print(hii[::3])\n",
        "print(hii[::-3])\n",
        "print(hii[6:2:-1])"
      ]
    },
    {
      "cell_type": "code",
      "execution_count": null,
      "metadata": {
        "colab": {
          "base_uri": "https://localhost:8080/"
        },
        "id": "OxejXu5kWglS",
        "outputId": "1d571777-290b-4b5a-9624-faca404b6ef5"
      },
      "outputs": [
        {
          "name": "stdout",
          "output_type": "stream",
          "text": [
            "(1, 2, 3, 4)\n",
            "4\n",
            "4\n",
            "1\n"
          ]
        }
      ],
      "source": [
        "#tupple=immutable list or immutale sequence of values or cannot be changed\n",
        "t1=(1,2,3,4)\n",
        "print(t1)\n",
        "print(t1 [3])\n",
        "print(max(t1))\n",
        "print(min(t1))"
      ]
    },
    {
      "cell_type": "code",
      "execution_count": null,
      "metadata": {
        "id": "WoJIpgiZR0gB"
      },
      "outputs": [],
      "source": [
        "i=0\n",
        "while(True):\n",
        "   if i+1<5:\n",
        "    i=i+1\n",
        "    continue\n",
        "    print(i+1,end='')\n",
        "    if(i==30):\n",
        "      break\n",
        "      i=i+1"
      ]
    },
    {
      "cell_type": "code",
      "execution_count": null,
      "metadata": {
        "colab": {
          "background_save": true
        },
        "id": "hS9k6JjlTuv_",
        "outputId": "bcb996d5-c77f-4f0d-c3dd-7a4df2b5b2ad"
      },
      "outputs": [
        {
          "name": "stdout",
          "output_type": "stream",
          "text": [
            "0101"
          ]
        }
      ],
      "source": [
        "#decimal to binary\n",
        "def DecimalToBinary(num):\n",
        "\t\n",
        "\tif num >= 1:\n",
        "\t\tDecimalToBinary(num // 2)\n",
        "\tprint(num % 2, end = '')\n",
        "if __name__ == '__main__':\n",
        "     \n",
        "   \n",
        "    dec_val =int(input(\"enter no\"))\n",
        "     \n",
        "    \n",
        "    DecimalToBinary(dec_val)"
      ]
    },
    {
      "cell_type": "code",
      "execution_count": null,
      "metadata": {
        "id": "1vWQVZ8DBTNG"
      },
      "outputs": [],
      "source": [
        "#np.reshape(*,*,'c')\n",
        "#np.reshape(*,*,'f')\n",
        "#np.array()\n"
      ]
    },
    {
      "cell_type": "code",
      "source": [
        "import numpy as np\n",
        "mydata=np.arange(0,20)\n",
        "print(mydata)"
      ],
      "metadata": {
        "colab": {
          "base_uri": "https://localhost:8080/"
        },
        "id": "VwaS1PtkPON6",
        "outputId": "1eb54ad5-f71d-4cd5-9820-e0c5f63e1da3"
      },
      "execution_count": null,
      "outputs": [
        {
          "output_type": "stream",
          "name": "stdout",
          "text": [
            "[ 0  1  2  3  4  5  6  7  8  9 10 11 12 13 14 15 16 17 18 19]\n"
          ]
        }
      ]
    },
    {
      "cell_type": "code",
      "source": [
        "np.reshape(mydata,(5,4))# default is opposite in r"
      ],
      "metadata": {
        "colab": {
          "base_uri": "https://localhost:8080/"
        },
        "id": "MFM2hLyOQBeY",
        "outputId": "9c948acd-6cc0-4226-8675-579195528bcb"
      },
      "execution_count": null,
      "outputs": [
        {
          "output_type": "execute_result",
          "data": {
            "text/plain": [
              "array([[ 0,  1,  2,  3],\n",
              "       [ 4,  5,  6,  7],\n",
              "       [ 8,  9, 10, 11],\n",
              "       [12, 13, 14, 15],\n",
              "       [16, 17, 18, 19]])"
            ]
          },
          "metadata": {},
          "execution_count": 23
        }
      ]
    },
    {
      "cell_type": "code",
      "source": [
        "MATR1=np.reshape(mydata,(5,4),order='c')\n",
        "MATR1"
      ],
      "metadata": {
        "colab": {
          "base_uri": "https://localhost:8080/"
        },
        "id": "eDYedE92QMyp",
        "outputId": "79297aac-1b4c-495d-8d57-652c6032a104"
      },
      "execution_count": null,
      "outputs": [
        {
          "output_type": "execute_result",
          "data": {
            "text/plain": [
              "array([[ 0,  1,  2,  3],\n",
              "       [ 4,  5,  6,  7],\n",
              "       [ 8,  9, 10, 11],\n",
              "       [12, 13, 14, 15],\n",
              "       [16, 17, 18, 19]])"
            ]
          },
          "metadata": {},
          "execution_count": 36
        }
      ]
    },
    {
      "cell_type": "code",
      "source": [
        "MATR2=np.reshape(mydata,(5,4),order='f')\n",
        "MATR2"
      ],
      "metadata": {
        "colab": {
          "base_uri": "https://localhost:8080/"
        },
        "id": "a8ZL9KuDQbWw",
        "outputId": "a220376d-e256-4160-b801-797270f2b788"
      },
      "execution_count": null,
      "outputs": [
        {
          "output_type": "execute_result",
          "data": {
            "text/plain": [
              "array([[ 0,  5, 10, 15],\n",
              "       [ 1,  6, 11, 16],\n",
              "       [ 2,  7, 12, 17],\n",
              "       [ 3,  8, 13, 18],\n",
              "       [ 4,  9, 14, 19]])"
            ]
          },
          "metadata": {},
          "execution_count": 24
        }
      ]
    },
    {
      "cell_type": "code",
      "source": [
        "r1=[\"my\",\"name\",\"is\",\"iti\"]\n",
        "r2=[\"what\",\"a\",\"beautiful\",\"day\"]\n",
        "r3=[1,2,3,4]\n",
        "[r1,r2,r3]"
      ],
      "metadata": {
        "colab": {
          "base_uri": "https://localhost:8080/"
        },
        "id": "eN7ziDX1RX9s",
        "outputId": "4312d78d-e846-4746-a4af-0bcf608f93e1"
      },
      "execution_count": null,
      "outputs": [
        {
          "output_type": "execute_result",
          "data": {
            "text/plain": [
              "[['my', 'name', 'is', 'iti'], ['what', 'a', 'beautiful', 'day'], [1, 2, 3, 4]]"
            ]
          },
          "metadata": {},
          "execution_count": 31
        }
      ]
    },
    {
      "cell_type": "code",
      "source": [
        "np.array([r1,r2,r3])\n",
        "#just mean less than this unicode  characters in the string"
      ],
      "metadata": {
        "colab": {
          "base_uri": "https://localhost:8080/"
        },
        "id": "0tMaPWSWSXwr",
        "outputId": "fb7f77ce-246e-4901-edf0-8f35a43fbc1f"
      },
      "execution_count": null,
      "outputs": [
        {
          "output_type": "execute_result",
          "data": {
            "text/plain": [
              "array([['my', 'name', 'is', 'iti'],\n",
              "       ['what', 'a', 'beautiful', 'day'],\n",
              "       ['1', '2', '3', '4']], dtype='<U21')"
            ]
          },
          "metadata": {},
          "execution_count": 33
        }
      ]
    },
    {
      "cell_type": "code",
      "source": [
        "print(np.array([r1,r2,r3]))"
      ],
      "metadata": {
        "colab": {
          "base_uri": "https://localhost:8080/"
        },
        "id": "fgsZ3iciSeES",
        "outputId": "993ea62d-8c69-42eb-d358-8349ff6268c3"
      },
      "execution_count": null,
      "outputs": [
        {
          "output_type": "stream",
          "name": "stdout",
          "text": [
            "[['my' 'name' 'is' 'iti']\n",
            " ['what' 'a' 'beautiful' 'day']\n",
            " ['1' '2' '3' '4']]\n"
          ]
        }
      ]
    },
    {
      "cell_type": "code",
      "source": [
        "MATR1[2,2]"
      ],
      "metadata": {
        "colab": {
          "base_uri": "https://localhost:8080/"
        },
        "id": "PJoRc72uSzx7",
        "outputId": "ff6fc2d7-0441-46c7-b339-74ffd7b9f390"
      },
      "execution_count": null,
      "outputs": [
        {
          "output_type": "execute_result",
          "data": {
            "text/plain": [
              "10"
            ]
          },
          "metadata": {},
          "execution_count": 39
        }
      ]
    },
    {
      "cell_type": "markdown",
      "source": [
        "#what is happening here when i run this we've just created an object which is called a dictonary and it's kind of like a list ,but the difference is that a list is an ordered set of element whereas a dictonary is not orederd .it's got the key so therefore they are refrence by key\n",
        "#the way to access element is using their key. so basically the key is kind of like the label of each value.\n",
        "\n",
        "\n",
        "\n",
        "\n",
        "```\n",
        "# This is formatted as code\n",
        "```\n",
        "\n"
      ],
      "metadata": {
        "id": "kzNH2OhcVBYt"
      }
    },
    {
      "cell_type": "code",
      "source": [
        "#dictonary \n",
        "dict1={'key1':'val1','key2':'val2','key3':'val3'}\n",
        "dict1"
      ],
      "metadata": {
        "colab": {
          "base_uri": "https://localhost:8080/"
        },
        "id": "qHvnWiWRUb00",
        "outputId": "e5ebb582-e182-41af-c672-d2521f79ac56"
      },
      "execution_count": null,
      "outputs": [
        {
          "output_type": "execute_result",
          "data": {
            "text/plain": [
              "{'key1': 'val1', 'key2': 'val2', 'key3': 'val3'}"
            ]
          },
          "metadata": {},
          "execution_count": 45
        }
      ]
    },
    {
      "cell_type": "code",
      "source": [
        "year=[\"2005-06\",\"2006-07\",\"2007-08\",\"2008-08\",\"2009-10\",\"2010-11\",\"2011-12\",\"2012-13\",\"2013-14\",\"2014-15\"]\n",
        "gp=[\"79\",\"76\",\"75\",\"81\",\"76\",\"79\",\"82\",\"76\",\"77\",\"69\"]\n",
        "mgp=[\"42.5\",\"40.9\",\"40.4\",\"37.5\",]"
      ],
      "metadata": {
        "id": "jr_KbCLcW8Jx"
      },
      "execution_count": null,
      "outputs": []
    },
    {
      "cell_type": "code",
      "source": [
        "import pandas as pd\n",
        "data=pd.Series([0.25,0.4,0.32,0.45],index=['a','b','c','d'])\n",
        "data"
      ],
      "metadata": {
        "id": "ru5N_VnXW2q3",
        "colab": {
          "base_uri": "https://localhost:8080/"
        },
        "outputId": "2b44c1af-a41e-4799-bbfb-60515b6c58a4"
      },
      "execution_count": null,
      "outputs": [
        {
          "output_type": "execute_result",
          "data": {
            "text/plain": [
              "a    0.25\n",
              "b    0.40\n",
              "c    0.32\n",
              "d    0.45\n",
              "dtype: float64"
            ]
          },
          "metadata": {},
          "execution_count": 51
        }
      ]
    },
    {
      "cell_type": "code",
      "source": [
        "list(data.items())"
      ],
      "metadata": {
        "colab": {
          "base_uri": "https://localhost:8080/"
        },
        "id": "5GNzW0nNekMu",
        "outputId": "d03ac690-f2c1-4932-f0d6-e751a3189f71"
      },
      "execution_count": null,
      "outputs": [
        {
          "output_type": "execute_result",
          "data": {
            "text/plain": [
              "[('a', 0.25), ('b', 0.4), ('c', 0.32), ('d', 0.45)]"
            ]
          },
          "metadata": {},
          "execution_count": 55
        }
      ]
    },
    {
      "cell_type": "code",
      "source": [],
      "metadata": {
        "id": "uR6RJqd4fhE1"
      },
      "execution_count": null,
      "outputs": []
    }
  ],
  "metadata": {
    "colab": {
      "provenance": [],
      "mount_file_id": "1_LP8xTKK24BRz_FNuge9LjQ0pfOyAMKV",
      "authorship_tag": "ABX9TyPat7puQlVPh9z/IoZ0Fdac",
      "include_colab_link": true
    },
    "kernelspec": {
      "display_name": "Python 3",
      "name": "python3"
    },
    "language_info": {
      "name": "python"
    }
  },
  "nbformat": 4,
  "nbformat_minor": 0
}